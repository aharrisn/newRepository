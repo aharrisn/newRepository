{
 "cells": [
  {
   "cell_type": "markdown",
   "id": "ee9e92de-19e4-456a-9f83-7b3b6e0cb56d",
   "metadata": {},
   "source": [
    "#Pandas\n",
    "Here we will have a quick play with a pandas Data Frame and use what we've learned about accessing them to answer some questions.\n",
    "\n",
    "We stopped ten people in the street and asked them what pets they have. We also recorded the person's sex and age."
   ]
  },
  {
   "cell_type": "code",
   "execution_count": 1,
   "id": "c93cdbd1-fc29-41bc-b952-7d51632fb14b",
   "metadata": {},
   "outputs": [],
   "source": [
    "import numpy as np\n",
    "import pandas as pd"
   ]
  },
  {
   "cell_type": "code",
   "execution_count": 5,
   "id": "a7d204d4-5566-4511-abfe-17c973631571",
   "metadata": {},
   "outputs": [
    {
     "name": "stderr",
     "output_type": "stream",
     "text": [
      "/tmp/ipykernel_350/4183878499.py:1: VisibleDeprecationWarning: Creating an ndarray from ragged nested sequences (which is a list-or-tuple of lists-or-tuples-or ndarrays with different lengths or shapes) is deprecated. If you meant to do this, you must specify 'dtype=object' when creating the ndarray.\n",
      "  pets = pd.DataFrame({'sex': np.array(['M', 'M', 'F', 'M', 'F', 'F', 'F', 'M', 'F', 'M']), 'age': np.array([21, 45, 23, 56, 47, 70, 34, 30, 19, 62]), 'pets': np.array([['cat', 'dog'], ['hamster'], ['cat', 'gerbil'], ['fish', 'hamster', 'gerbil'], ['cat'], ['dog'], ['dog'], ['cat'],['rabbit', 'cat'], ['dog']])})\n"
     ]
    }
   ],
   "source": [
    "pets = pd.DataFrame({'sex': np.array(['M', 'M', 'F', 'M', 'F', 'F', 'F', 'M', 'F', 'M']), 'age': np.array([21, 45, 23, 56, 47, 70, 34, 30, 19, 62]), 'pets': np.array([['cat', 'dog'], ['hamster'], ['cat', 'gerbil'], ['fish', 'hamster', 'gerbil'], ['cat'], ['dog'], ['dog'], ['cat'],['rabbit', 'cat'], ['dog']])})"
   ]
  },
  {
   "cell_type": "markdown",
   "id": "a0e4cf89-5375-4b44-91a1-9637ff38d9c6",
   "metadata": {},
   "source": [
    "We have been asked to analyze the survey responses. In particular, we have been given the questions\n",
    "\n",
    "What sex was the youngest respondent?\n",
    "What age was the person with the most pets?\n",
    "What was the most popular pet?\n",
    "What was the average age of dog owners?\n",
    "Firstly, let's just look at the data. It's not very big so we don't actually even need to use head()."
   ]
  },
  {
   "cell_type": "code",
   "execution_count": 6,
   "id": "b4de5553-d764-449f-8228-ac127e7a0af8",
   "metadata": {},
   "outputs": [
    {
     "name": "stdout",
     "output_type": "stream",
     "text": [
      "  sex  age                     pets\n",
      "0   M   21               [cat, dog]\n",
      "1   M   45                [hamster]\n",
      "2   F   23            [cat, gerbil]\n",
      "3   M   56  [fish, hamster, gerbil]\n",
      "4   F   47                    [cat]\n",
      "5   F   70                    [dog]\n",
      "6   F   34                    [dog]\n",
      "7   M   30                    [cat]\n",
      "8   F   19            [rabbit, cat]\n",
      "9   M   62                    [dog]\n"
     ]
    }
   ],
   "source": [
    "print(pets)"
   ]
  },
  {
   "cell_type": "markdown",
   "id": "c3a9d33e-1ad9-4e7e-9078-3e6e50297bea",
   "metadata": {},
   "source": [
    "Notice here, as well, how the notebook has a nice default presentation for Data Frames. And, yes, you can customize this! We won't be going into that here.\n",
    "\n",
    "##What sex was the youngest respondent?\n",
    "Hint, you might find the .loc accessor useful here. Think about breaking this task down into creating a boolean index that is True where the value in the age column is equal to the minimum of the age column. Then select the sex column."
   ]
  },
  {
   "cell_type": "code",
   "execution_count": 7,
   "id": "d7fbb4f0-2207-469d-91c8-58c3f44a1f1d",
   "metadata": {},
   "outputs": [
    {
     "data": {
      "text/plain": [
       "8    F\n",
       "Name: sex, dtype: object"
      ]
     },
     "execution_count": 7,
     "metadata": {},
     "output_type": "execute_result"
    }
   ],
   "source": [
    "pets.loc[pets['age'] == min(pets['age']), 'sex']"
   ]
  },
  {
   "cell_type": "markdown",
   "id": "12c53792-05c7-4bd4-8fa4-61e1a8fe3a37",
   "metadata": {},
   "source": [
    "##What age was the person with the most pets?\n",
    "Hint, you may find applying len as a lambda function to the pets column useful here. Remember that calling len on the pets column will just return the length of the series, which is the number of rows in the Data Frame. In fact, adding useful features to your data is a very common thing in data science, so go ahead and create a new column in our pets Data Frame and call it 'num_pets'."
   ]
  },
  {
   "cell_type": "code",
   "execution_count": 8,
   "id": "dc57e9b5-c751-4964-9e81-1f4a4cbeb307",
   "metadata": {},
   "outputs": [],
   "source": [
    "pets['num_pets'] = pets['pets'].apply(lambda x: len(x))"
   ]
  },
  {
   "cell_type": "code",
   "execution_count": 9,
   "id": "1be78b4b-790f-47b3-a2a6-5c6f26a1a18c",
   "metadata": {},
   "outputs": [
    {
     "name": "stdout",
     "output_type": "stream",
     "text": [
      "  sex  age                     pets  num_pets\n",
      "0   M   21               [cat, dog]         2\n",
      "1   M   45                [hamster]         1\n",
      "2   F   23            [cat, gerbil]         2\n",
      "3   M   56  [fish, hamster, gerbil]         3\n",
      "4   F   47                    [cat]         1\n",
      "5   F   70                    [dog]         1\n",
      "6   F   34                    [dog]         1\n",
      "7   M   30                    [cat]         1\n",
      "8   F   19            [rabbit, cat]         2\n",
      "9   M   62                    [dog]         1\n"
     ]
    }
   ],
   "source": [
    "print(pets)"
   ]
  },
  {
   "cell_type": "code",
   "execution_count": 10,
   "id": "a2172483-7b25-4536-bed0-03835104e89b",
   "metadata": {},
   "outputs": [
    {
     "data": {
      "text/plain": [
       "3    56\n",
       "Name: age, dtype: int64"
      ]
     },
     "execution_count": 10,
     "metadata": {},
     "output_type": "execute_result"
    }
   ],
   "source": [
    "pets.loc[pets['num_pets'] == max(pets['num_pets']), 'age']"
   ]
  },
  {
   "cell_type": "markdown",
   "id": "35d8181f-9634-4d5c-95e9-63ddfa2d0352",
   "metadata": {},
   "source": [
    "##What was the most popular pet?\n",
    "This is a very interesting question, given the data, because the data are arranged by respondent, not by pet. We need to get into the pets column now in order to count each type of animal. To do this, we could perform a list comprehension and iterate over each list element for each Series element. But here we're going to give you a handy way to convert that Series of lists into a (longer) Series. The reason for this is to end up with another Series, which means we still have access to the powerful methods available from pandas."
   ]
  },
  {
   "cell_type": "code",
   "execution_count": 11,
   "id": "6d270c6a-d174-44f6-a7a8-39f764098ce9",
   "metadata": {},
   "outputs": [
    {
     "data": {
      "text/plain": [
       "0         cat\n",
       "1         dog\n",
       "2     hamster\n",
       "3         cat\n",
       "4      gerbil\n",
       "5        fish\n",
       "6     hamster\n",
       "7      gerbil\n",
       "8         cat\n",
       "9         dog\n",
       "10        dog\n",
       "11        cat\n",
       "12     rabbit\n",
       "13        cat\n",
       "14        dog\n",
       "dtype: object"
      ]
     },
     "execution_count": 11,
     "metadata": {},
     "output_type": "execute_result"
    }
   ],
   "source": [
    "pet_series = pets['pets'].apply(pd.Series).stack().reset_index(drop=True)\n",
    "pet_series"
   ]
  },
  {
   "cell_type": "code",
   "execution_count": 12,
   "id": "52eff655-095c-492c-903b-409bbe8b9dde",
   "metadata": {},
   "outputs": [
    {
     "data": {
      "text/plain": [
       "cat        5\n",
       "dog        4\n",
       "hamster    2\n",
       "gerbil     2\n",
       "fish       1\n",
       "rabbit     1\n",
       "dtype: int64"
      ]
     },
     "execution_count": 12,
     "metadata": {},
     "output_type": "execute_result"
    }
   ],
   "source": [
    "pet_series.value_counts()"
   ]
  },
  {
   "cell_type": "markdown",
   "id": "62d990cd-8213-4792-8fca-dbf40e37bb88",
   "metadata": {},
   "source": [
    "##What was the average age of dog owners?\n",
    "Hint, again here you may find it useful to use a lambda function to create a boolean index which is True if a respondent said they had a dog and False otherwise."
   ]
  },
  {
   "cell_type": "code",
   "execution_count": 24,
   "id": "bb58b07f-d928-4479-9a7f-fdf0dd55943a",
   "metadata": {},
   "outputs": [
    {
     "data": {
      "text/plain": [
       "46.75"
      ]
     },
     "execution_count": 24,
     "metadata": {},
     "output_type": "execute_result"
    }
   ],
   "source": [
    "pets.loc[pets['pets'].apply(lambda x: 'dog' in x), ('age')].mean()"
   ]
  },
  {
   "cell_type": "markdown",
   "id": "792eaee6-ecde-4919-ba52-6896b1448331",
   "metadata": {},
   "source": [
    "#Conclusion\n",
    "You've now seen how pandas holds tabular data, where each column can be a different type (e.g. sex is character and age is a number). Furthermore, pandas provides incredibly powerful methods for slicing and dicing the data to answer some very interesting questions using relatively little code. You're well on your journey to becoming a data ninja!"
   ]
  }
 ],
 "metadata": {
  "kernelspec": {
   "display_name": "anaconda-2022.05-py39",
   "language": "python",
   "name": "conda-env-anaconda-2022.05-py39-py"
  },
  "language_info": {
   "codemirror_mode": {
    "name": "ipython",
    "version": 3
   },
   "file_extension": ".py",
   "mimetype": "text/x-python",
   "name": "python",
   "nbconvert_exporter": "python",
   "pygments_lexer": "ipython3",
   "version": "3.9.12"
  }
 },
 "nbformat": 4,
 "nbformat_minor": 5
}
